{
 "cells": [
  {
   "cell_type": "markdown",
   "metadata": {},
   "source": [
    "# Band Importance\n",
    "\n",
    "## Goal\n",
    "\n",
    "The goal of the first experiment is to find the best combination of bands. We choose from all bands available in the Sentinel-2 [Level-2A](https://developers.google.com/earth-engine/datasets/catalog/COPERNICUS_S2_SR_HARMONIZED) product and all indices derived from those bands offered by the [eemont](https://github.com/davemlz/eemont) package.\n",
    "\n",
    "## Methodology\n",
    "\n",
    "The experiment is conducted as follows:\n",
    "\n",
    "- A composite raster with all bands is created by averaging across a 1 year long time window, starting with April 1st, 2017\n",
    "- Random Forest from scikit-learn with default parameters is chosen as the regression model.\n",
    "- The 30 best bands are selected using Recursive Feature Elimination (RFE)\n",
    "\n",
    "We start with listing all available bands and indices:"
   ]
  },
  {
   "cell_type": "code",
   "execution_count": 1,
   "metadata": {},
   "outputs": [
    {
     "name": "stdout",
     "output_type": "stream",
     "text": [
      "Initializing Earth Engine API...\n",
      "All available Level-2A Bands: ['B1', 'B2', 'B3', 'B4', 'B5', 'B6', 'B7', 'B8', 'B8A', 'B9', 'B11', 'B12', 'AOT', 'WVP', 'SCL', 'TCI_R', 'TCI_G', 'TCI_B', 'MSK_CLDPRB', 'MSK_SNWPRB', 'QA10', 'QA20', 'QA60']\n"
     ]
    }
   ],
   "source": [
    "# List all available Sentinel-2 Level-2A bands\n",
    "from ltm.data import list_bands\n",
    "\n",
    "bands = list_bands()\n",
    "\n",
    "print(\"All available Level-2A Bands:\", bands)"
   ]
  },
  {
   "cell_type": "code",
   "execution_count": 2,
   "metadata": {},
   "outputs": [
    {
     "name": "stdout",
     "output_type": "stream",
     "text": [
      "All applicable indices offered by eemont: ['AFRI1600', 'AFRI2100', 'ANDWI', 'ARI', 'ARI2', 'ARVI', 'ATSAVI', 'AVI', 'AWEInsh', 'AWEIsh', 'BAI', 'BAIM', 'BAIS2', 'BCC', 'BI', 'BITM', 'BIXS', 'BLFEI', 'BNDVI', 'BRBA', 'BWDRVI', 'BaI', 'CIG', 'CIRE', 'CSI', 'CVI', 'DBSI', 'DSI', 'DSWI1', 'DSWI2', 'DSWI3', 'DSWI4', 'DSWI5', 'DVI', 'DVIplus', 'EMBI', 'EVI', 'EVI2', 'ExG', 'ExGR', 'ExR', 'FCVI', 'GARI', 'GBNDVI', 'GCC', 'GDVI', 'GEMI', 'GLI', 'GM1', 'GM2', 'GNDVI', 'GOSAVI', 'GRNDVI', 'GRVI', 'GSAVI', 'GVMI', 'IAVI', 'IBI', 'IKAW', 'IPVI', 'IRECI', 'LSWI', 'MBI', 'MBWI', 'MCARI', 'MCARI1', 'MCARI2', 'MCARI705', 'MCARIOSAVI', 'MCARIOSAVI705', 'MGRVI', 'MIRBI', 'MLSWI26', 'MLSWI27', 'MNDVI', 'MNDWI', 'MNLI', 'MRBVI', 'MSAVI', 'MSI', 'MSR', 'MSR705', 'MTCI', 'MTVI1', 'MTVI2', 'MuWIR', 'NBAI', 'NBR', 'NBR2', 'NBRSWIR', 'NBRplus', 'NBSIMS', 'ND705', 'NDBI', 'NDCI', 'NDDI', 'NDGI', 'NDGlaI', 'NDII', 'NDMI', 'NDPI', 'NDPonI', 'NDREI', 'NDSI', 'NDSII', 'NDSInw', 'NDSWIR', 'NDSaII', 'NDSoI', 'NDTI', 'NDVI', 'NDVI705', 'NDVIMNDWI', 'NDWI', 'NDWIns', 'NDYI', 'NGRDI', 'NHFD', 'NIRv', 'NIRvH2', 'NLI', 'NMDI', 'NRFIg', 'NRFIr', 'NSDS', 'NSDSI1', 'NSDSI2', 'NSDSI3', 'NWI', 'NormG', 'NormNIR', 'NormR', 'OCVI', 'OSAVI', 'PISI', 'PSRI', 'RCC', 'RDVI', 'REDSI', 'RENDVI', 'RGBVI', 'RGRI', 'RI', 'RI4XS', 'RVI', 'S2REP', 'S2WI', 'S3', 'SARVI', 'SAVI', 'SAVI2', 'SEVI', 'SI', 'SIPI', 'SR', 'SR2', 'SR3', 'SR555', 'SR705', 'SWI', 'SWM', 'SeLI', 'TCARI', 'TCARIOSAVI', 'TCARIOSAVI705', 'TCI', 'TDVI', 'TGI', 'TRRVI', 'TSAVI', 'TTVI', 'TVI', 'TriVI', 'UI', 'VARI', 'VARI700', 'VI700', 'VIBI', 'VIG', 'VgNIRBI', 'VrNIRBI', 'WDRVI', 'WDVI', 'WI1', 'WI2', 'WI2015', 'WRI', 'kEVI', 'kIPVI', 'kNDVI', 'kRVI', 'kVARI', 'mND705', 'mSR705']\n"
     ]
    }
   ],
   "source": [
    "# List all available indices offered by eemont\n",
    "from ltm.data import list_indices\n",
    "\n",
    "indices = list_indices()\n",
    "\n",
    "print(\"All applicable indices offered by eemont:\", indices)"
   ]
  },
  {
   "cell_type": "markdown",
   "metadata": {},
   "source": [
    "We create a raster for the study area with all bands listed above:"
   ]
  },
  {
   "cell_type": "code",
   "execution_count": 3,
   "metadata": {},
   "outputs": [],
   "source": [
    "# Create a composite from a Sentinel image with all available bands and indices\n",
    "from ltm.data import sentinel_composite\n",
    "from datetime import datetime\n",
    "from pathlib import Path\n",
    "\n",
    "# Define the label path as well as the path to write the raster to\n",
    "target_path = \"../data/processed/target.tif\"\n",
    "data_path = \"../data/processed/band_importance/data.tif\"\n",
    "Path(data_path).parent.mkdir(parents=True, exist_ok=True)\n",
    "\n",
    "# Create the composite if it does not exist\n",
    "if not Path(data_path).exists():\n",
    "    sentinel_composite(\n",
    "        target_path_from=target_path,\n",
    "        data_path_to=data_path,\n",
    "        time_window=(datetime(2017, 4, 1), datetime(2018, 4, 1)),\n",
    "        indices=indices,\n",
    "        sentinel_bands=bands,\n",
    "    )"
   ]
  },
  {
   "cell_type": "markdown",
   "metadata": {},
   "source": [
    "Now we perform recursive feature elimination to determine the best combination of bands and indices:"
   ]
  },
  {
   "cell_type": "code",
   "execution_count": 4,
   "metadata": {},
   "outputs": [],
   "source": [
    "# Compute the scores for each step of the RFE\n",
    "from ltm.data import split_band_name\n",
    "from ltm.features import load_raster\n",
    "from sklearn.ensemble import RandomForestRegressor\n",
    "from sklearn.feature_selection import RFE\n",
    "from sklearn.metrics import make_scorer, root_mean_squared_error\n",
    "from sklearn.model_selection import cross_validate\n",
    "\n",
    "import pandas as pd\n",
    "from tqdm.notebook import tqdm\n",
    "\n",
    "# Check if the report is already available\n",
    "band_importance_path = \"../reports/band_importance.csv\"\n",
    "if not Path(band_importance_path).exists():\n",
    "    Path(band_importance_path).parent.mkdir(parents=True, exist_ok=True)\n",
    "\n",
    "    # Load the raster, label and drop rows with NaN label\n",
    "    data = load_raster(data_path)\n",
    "    target = load_raster(target_path)\n",
    "    data, target = data[target.notna()], target[target.notna()]\n",
    "\n",
    "    # Create the RFE object and rank each pixel\n",
    "    rf = RandomForestRegressor(n_jobs=-1, random_state=42)\n",
    "    rfe = RFE(estimator=rf, n_features_to_select=1, step=1, verbose=1)\n",
    "    rfe.fit(data, target)\n",
    "\n",
    "    # Define the scoring metrics\n",
    "    scoring = {\"Root Mean Squared Error\": make_scorer(root_mean_squared_error)}\n",
    "\n",
    "    # Get the features in reverse order of elimination\n",
    "    ranking = rfe.ranking_\n",
    "    feature_names = rfe.feature_names_in_\n",
    "    order_index = ranking.argsort()\n",
    "    ordered_features = feature_names[order_index]\n",
    "\n",
    "    # Compute the score for each step of the RFE\n",
    "    score_df = pd.DataFrame(columns=scoring.keys())\n",
    "    for i in tqdm(range(ordered_features.shape[0])):\n",
    "        # Fit the model with the current features\n",
    "        curr_data = data[ordered_features[: i + 1]]\n",
    "        random_forest = RandomForestRegressor(n_jobs=-1, random_state=42)\n",
    "        scores = cross_validate(\n",
    "            random_forest, curr_data, target, scoring=scoring, n_jobs=-1\n",
    "        )\n",
    "\n",
    "        # Store the score in the dataframe\n",
    "        band_label = split_band_name(ordered_features[i])[1]\n",
    "        score_df.loc[band_label] = [\n",
    "            scores[f\"test_{key}\"].mean() for key in scoring.keys()\n",
    "        ]\n",
    "\n",
    "    # Save the scores to a CSV file\n",
    "    score_df.to_csv(band_importance_path, index_label=\"Band\")\n",
    "    score_df.index.name = \"Band\"\n",
    "else:\n",
    "    # Load the scores from the CSV file\n",
    "    score_df = pd.read_csv(band_importance_path, index_col=0)"
   ]
  },
  {
   "cell_type": "code",
   "execution_count": 5,
   "metadata": {},
   "outputs": [
    {
     "data": {
      "image/png": "[encoded data removed]",
      "text/plain": [
       "<Figure size 350x262.5 with 1 Axes>"
      ]
     },
     "metadata": {},
     "output_type": "display_data"
    }
   ],
   "source": [
    "# Plot the RFE scores for n bandsimport matplotlib.pyplot as plt^\n",
    "import matplotlib.pyplot as plt\n",
    "import scienceplots\n",
    "\n",
    "# Use science style for plots\n",
    "plt.style.use(\"science\")\n",
    "\n",
    "# Plot RFE scores\n",
    "score_df[\"Index\"] = range(1, score_df.shape[0] + 1)\n",
    "ax = score_df.plot(\n",
    "    x=\"Index\", y=\"Root Mean Squared Error\", label=\"5-Fold Cross Validation\"\n",
    ")\n",
    "ax.axvline(30, color=\"red\", linestyle=\"--\", label=\"Top 30 Bands\")\n",
    "\n",
    "# Format the plot\n",
    "ax.set_title(\"Recursive Feature Elimination\")\n",
    "ax.set_xlabel(\"Number of bands\")\n",
    "ax.set_ylabel(\"RMSE\")\n",
    "ax.legend()\n",
    "\n",
    "figure_path = f\"../reports/figures/band_importance/{ax.get_title()}.svg\"\n",
    "Path(figure_path).parent.mkdir(parents=True, exist_ok=True)\n",
    "plt.savefig(figure_path, dpi=300)"
   ]
  },
  {
   "cell_type": "markdown",
   "metadata": {},
   "source": [
    "# Result\n",
    "\n",
    "The RMSE does not decrease significantly when keeping more 30 bands, see above. Additionally we generally want to keep the number of bands as low as possible to reduce the complexity of data retrieval. Thus we choose following 30 best bands and indices for subsequent experiments:"
   ]
  },
  {
   "cell_type": "code",
   "execution_count": 6,
   "metadata": {},
   "outputs": [
    {
     "name": "stdout",
     "output_type": "stream",
     "text": [
      "Level-2A bands: ['B9', 'WVP', 'TCI_G']\n",
      "Indices: ['BAIM', 'BWDRVI', 'GCC', 'MCARI705', 'MIRBI', 'MLSWI26', 'MNLI', 'MTCI', 'MuWIR', 'NBRplus', 'NDDI', 'NDGI', 'NSDSI1', 'NormR', 'RGRI', 'S2WI', 'SIPI', 'TRRVI', 'TTVI', 'VI700', 'VIBI', 'WI2', 'WI2015', 'kEVI', 'kIPVI', 'kNDVI', 'mSR705']\n"
     ]
    }
   ],
   "source": [
    "# List all selected bands and indices\n",
    "from ltm.models import bands_from_importance\n",
    "\n",
    "sentinel_bands, index_bands = bands_from_importance(band_importance_path)\n",
    "\n",
    "print(\"Level-2A bands:\", sentinel_bands)\n",
    "print(\"Indices:\", index_bands)"
   ]
  }
 ],
 "metadata": {
  "kernelspec": {
   "display_name": "ltm",
   "language": "python",
   "name": "python3"
  },
  "language_info": {
   "codemirror_mode": {
    "name": "ipython",
    "version": 3
   },
   "file_extension": ".py",
   "mimetype": "text/x-python",
   "name": "python",
   "nbconvert_exporter": "python",
   "pygments_lexer": "ipython3",
   "version": "3.10.14"
  }
 },
 "nbformat": 4,
 "nbformat_minor": 2
}
